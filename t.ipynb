{
 "cells": [
  {
   "cell_type": "code",
   "execution_count": 1,
   "metadata": {},
   "outputs": [
    {
     "name": "stdout",
     "output_type": "stream",
     "text": [
      "Processed image saved to output_1.png\n"
     ]
    }
   ],
   "source": [
    "import cv2\n",
    "import numpy as np\n",
    "\n",
    "\n",
    "def hex_to_bgr(hex_color):\n",
    "    hex_color = hex_color.lstrip(\"#\")\n",
    "    rgb = tuple(int(hex_color[i : i + 2], 16) for i in (0, 2, 4))\n",
    "    return rgb[::-1]\n",
    "\n",
    "\n",
    "def remove_specific_color(input_path, output_path, target_color, tolerance=30):\n",
    "    img = cv2.imread(input_path)\n",
    "\n",
    "    if img is None:\n",
    "        print(f\"Error: Could not read the image at {input_path}\")\n",
    "        return None\n",
    "\n",
    "    target_color = hex_to_bgr(target_color)\n",
    "\n",
    "    lower_bound = np.array([max(0, c - tolerance) for c in target_color])\n",
    "    upper_bound = np.array([min(255, c + tolerance) for c in target_color])\n",
    "    mask = cv2.inRange(img, lower_bound, upper_bound)\n",
    "\n",
    "    mask = cv2.bitwise_not(mask)\n",
    "    result = cv2.bitwise_and(img, img, mask=mask)\n",
    "    result[mask == 0] = 255\n",
    "\n",
    "    return result\n",
    "\n",
    "\n",
    "def increase_contrast(image, alpha=1.5, beta=0):\n",
    "    return cv2.convertScaleAbs(image, alpha=alpha, beta=beta)\n",
    "\n",
    "\n",
    "def make_greys_darker(image, gamma=0.7):\n",
    "    invGamma = 1.0 / gamma\n",
    "    table = np.array(\n",
    "        [((i / 255.0) ** invGamma) * 255 for i in np.arange(0, 256)]\n",
    "    ).astype(\"uint8\")\n",
    "    return cv2.LUT(image, table)\n",
    "\n",
    "\n",
    "def process_image(input_path, output_path, target_color, contrast_alpha=1.5, gamma=0.7):\n",
    "    # Remove watermark\n",
    "    result = remove_specific_color(input_path, output_path, target_color)\n",
    "    if result is None:\n",
    "        return\n",
    "\n",
    "    # Increase contrast\n",
    "    result = increase_contrast(result, alpha=contrast_alpha)\n",
    "\n",
    "    # Convert to grayscale\n",
    "    result = cv2.cvtColor(result, cv2.COLOR_BGR2GRAY)\n",
    "\n",
    "    # Make greys darker\n",
    "    result = make_greys_darker(result, gamma=gamma)\n",
    "\n",
    "    # Save the final result\n",
    "    cv2.imwrite(output_path, result)\n",
    "    print(f\"Processed image saved to {output_path}\")\n",
    "\n",
    "\n",
    "# Use the function\n",
    "input_image = \"1.png\"\n",
    "output_image = \"output_1.png\"\n",
    "target_color = \"#EBF3F3\"  # The color to remove\n",
    "process_image(input_image, output_image, target_color)"
   ]
  }
 ],
 "metadata": {
  "kernelspec": {
   "display_name": "Python 3",
   "language": "python",
   "name": "python3"
  },
  "language_info": {
   "codemirror_mode": {
    "name": "ipython",
    "version": 3
   },
   "file_extension": ".py",
   "mimetype": "text/x-python",
   "name": "python",
   "nbconvert_exporter": "python",
   "pygments_lexer": "ipython3",
   "version": "3.12.3"
  }
 },
 "nbformat": 4,
 "nbformat_minor": 2
}
